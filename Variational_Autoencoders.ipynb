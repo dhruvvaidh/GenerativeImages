{
 "cells": [
  {
   "cell_type": "code",
   "execution_count": 1,
   "metadata": {},
   "outputs": [],
   "source": [
    "import torch\n",
    "from torch import nn\n",
    "from torchvision import datasets,transforms\n",
    "import torchvision\n",
    "import cv2\n",
    "from tqdm import tqdm\n",
    "import numpy as np\n",
    "from einops import rearrange"
   ]
  },
  {
   "cell_type": "code",
   "execution_count": 2,
   "metadata": {},
   "outputs": [
    {
     "name": "stdout",
     "output_type": "stream",
     "text": [
      "mps\n"
     ]
    }
   ],
   "source": [
    "device = torch.device(\"mps\" if torch.backends.mps.is_available() else \"cpu\")\n",
    "print(device)"
   ]
  },
  {
   "cell_type": "code",
   "execution_count": 3,
   "metadata": {},
   "outputs": [],
   "source": [
    "transform = transforms.Compose([\n",
    "    transforms.ToTensor(),\n",
    "    # Converts the pixel values in the image in the range -1 to 1\n",
    "    transforms.Normalize((0.5,), (0.5,))\n",
    "])\n",
    "\n",
    "mnist_data = datasets.MNIST(root='./data', train=True, download=True, transform=transform)\n",
    "test_data = datasets.MNIST(root='./test_data', train=False,download=True,transform=transform)\n",
    "\n",
    "data_loader = torch.utils.data.DataLoader(dataset=mnist_data,\n",
    "                                          batch_size=64,\n",
    "                                          shuffle=True)\n",
    "test_dataloader = torch.utils.data.DataLoader(dataset=test_data,\n",
    "                                          batch_size=64,\n",
    "                                          shuffle=True)"
   ]
  },
  {
   "cell_type": "code",
   "execution_count": 4,
   "metadata": {},
   "outputs": [],
   "source": [
    "# Input Img -> Hiddden dim -> mean, std -> Parameterization Trick -> Decoder -> Output Img\n",
    "class VAE(nn.Module):\n",
    "    def __init__(self):\n",
    "        super().__init__()\n",
    "        self.common_fc = nn.Sequential(\n",
    "            nn.Linear(28*28,196),\n",
    "            nn.Tanh(),\n",
    "            nn.Linear(196,48),\n",
    "            nn.Tanh()\n",
    "        )\n",
    "\n",
    "        self.mean_fc = nn.Sequential(\n",
    "            nn.Linear(48,16),\n",
    "            nn.Tanh(),\n",
    "            nn.Linear(16,2)\n",
    "        )\n",
    "        # Here we are calculating the log variance not the actual variance in the distribution\n",
    "        self.log_var_fc = nn.Sequential(\n",
    "            nn.Linear(48,16),\n",
    "            nn.Tanh(),\n",
    "            nn.Linear(16,2)\n",
    "        )\n",
    "\n",
    "        self.decoder_fcs = nn.Sequential(\n",
    "            nn.Linear(2,16),\n",
    "            nn.Tanh(),\n",
    "            nn.Linear(16,48),\n",
    "            nn.Tanh(),\n",
    "            nn.Linear(48,196),\n",
    "            nn.Tanh(),\n",
    "            nn.Linear(196,28*28)\n",
    "        )\n",
    "    def encode(self,x):\n",
    "        out = self.common_fc(torch.flatten(x,start_dim=1))\n",
    "        mean = self.mean_fc(out)\n",
    "        log_var = self.log_var_fc(out)\n",
    "        return mean,log_var\n",
    "    \n",
    "\n",
    "    # Here we are applying the reparametrization trick\n",
    "    def sample(self,mean,log_var):\n",
    "        std = torch.exp(0.5*log_var)\n",
    "        z = torch.randn_like(std)\n",
    "        z = z*std + mean\n",
    "        return z\n",
    "    \n",
    "    def decode(self,z):\n",
    "        out = self.decoder_fcs(z)\n",
    "        out = out.reshape((z.size(0),1,28,28))\n",
    "        return out\n",
    "    \n",
    "    def forward(self,x):\n",
    "        # Batch,Channel,Height,Width\n",
    "        ## Encoder\n",
    "        mean,log_var = self.encode(x)\n",
    "        ## Sampling\n",
    "        z = self.sample(mean,log_var)\n",
    "        ## Decoder\n",
    "        output = self.decode(z)\n",
    "        return mean, log_var, output"
   ]
  },
  {
   "cell_type": "code",
   "execution_count": 8,
   "metadata": {},
   "outputs": [],
   "source": [
    "def train():\n",
    "    # Instantiate the model\n",
    "    model = VAE().to(device=device)\n",
    "    # Training Parameters\n",
    "    num_epochs = 10\n",
    "    optimizer = torch.optim.Adam(model.parameters(),lr=1e-3)\n",
    "    criterion = torch.nn.MSELoss()\n",
    "\n",
    "    recon_losses = []\n",
    "    kl_losses = []\n",
    "    losses = []\n",
    "\n",
    "    for epoch_idx in range(num_epochs):\n",
    "        for im,_ in tqdm(data_loader):\n",
    "            im = im.float().to(device)\n",
    "            optimizer.zero_grad()\n",
    "            mean, log_var, out = model(im)\n",
    "            cv2.imwrite('./vae_outputs/input.jpeg',255*((im+1)/2).detach().cpu().numpy()[0,0])\n",
    "            cv2.imwrite('./vae_outputs/output.jpeg',255*((out+1)/2).detach().cpu().numpy()[0,0])\n",
    "\n",
    "            kl_loss = torch.mean(0.5*(torch.sum(torch.exp(log_var) + mean **2 -1 - log_var,dim = -1)))\n",
    "            recon_loss = criterion(out,im)\n",
    "            loss = recon_loss+0.00001*kl_loss\n",
    "            recon_losses.append(recon_loss.item())\n",
    "            losses.append(loss.item())\n",
    "            kl_losses.append(kl_loss.item())\n",
    "            loss.backward()\n",
    "            optimizer.step()\n",
    "        print(f'Finished Epoch: {epoch_idx+1}|Reconstruction Loss: {np.mean(recon_losses):.4f}|KL Loss:{np.mean(kl_losses):4f}|')\n",
    "    \n",
    "    print('Done Training....')\n",
    "\n",
    "    # Run a reconstruction for some sample test images\n",
    "    idxs = torch.randint(0,len(test_data)-1,(100,))\n",
    "    ims = torch.cat([test_data[idx][0][None,:] for idx in idxs]).float().to(device)\n",
    "\n",
    "    _,_, generated_im = model(ims)\n",
    "\n",
    "    ims = (ims+1)/2\n",
    "    generated_im = 1 - (generated_im+1)/2\n",
    "    out = torch.hstack([ims,generated_im])\n",
    "    output = rearrange(out, 'b c h w -> b () h (c w)')\n",
    "    grid = torchvision.utils.make_grid(output, nrow=10)\n",
    "    img = transforms.ToPILImage()(grid) \n",
    "    img.save('./vae_outputs/reconstructed_image.jpeg')\n",
    "    print('Done Reconstruction....')"
   ]
  },
  {
   "cell_type": "code",
   "execution_count": 9,
   "metadata": {},
   "outputs": [
    {
     "name": "stderr",
     "output_type": "stream",
     "text": [
      "100%|██████████| 938/938 [00:09<00:00, 102.53it/s]\n"
     ]
    },
    {
     "name": "stdout",
     "output_type": "stream",
     "text": [
      "Finished Epoch: 1|Reconstruction Loss: 0.2579|KL Loss:4.080207|\n"
     ]
    },
    {
     "name": "stderr",
     "output_type": "stream",
     "text": [
      "100%|██████████| 938/938 [00:08<00:00, 105.27it/s]\n"
     ]
    },
    {
     "name": "stdout",
     "output_type": "stream",
     "text": [
      "Finished Epoch: 2|Reconstruction Loss: 0.2294|KL Loss:6.200972|\n"
     ]
    },
    {
     "name": "stderr",
     "output_type": "stream",
     "text": [
      "100%|██████████| 938/938 [00:08<00:00, 105.18it/s]\n"
     ]
    },
    {
     "name": "stdout",
     "output_type": "stream",
     "text": [
      "Finished Epoch: 3|Reconstruction Loss: 0.2152|KL Loss:7.582848|\n"
     ]
    },
    {
     "name": "stderr",
     "output_type": "stream",
     "text": [
      "100%|██████████| 938/938 [00:09<00:00, 103.85it/s]\n"
     ]
    },
    {
     "name": "stdout",
     "output_type": "stream",
     "text": [
      "Finished Epoch: 4|Reconstruction Loss: 0.2066|KL Loss:8.550090|\n"
     ]
    },
    {
     "name": "stderr",
     "output_type": "stream",
     "text": [
      "100%|██████████| 938/938 [00:09<00:00, 103.54it/s]\n"
     ]
    },
    {
     "name": "stdout",
     "output_type": "stream",
     "text": [
      "Finished Epoch: 5|Reconstruction Loss: 0.2005|KL Loss:9.343829|\n"
     ]
    },
    {
     "name": "stderr",
     "output_type": "stream",
     "text": [
      "100%|██████████| 938/938 [00:08<00:00, 104.28it/s]\n"
     ]
    },
    {
     "name": "stdout",
     "output_type": "stream",
     "text": [
      "Finished Epoch: 6|Reconstruction Loss: 0.1958|KL Loss:9.971611|\n"
     ]
    },
    {
     "name": "stderr",
     "output_type": "stream",
     "text": [
      "100%|██████████| 938/938 [00:08<00:00, 104.40it/s]\n"
     ]
    },
    {
     "name": "stdout",
     "output_type": "stream",
     "text": [
      "Finished Epoch: 7|Reconstruction Loss: 0.1920|KL Loss:10.498877|\n"
     ]
    },
    {
     "name": "stderr",
     "output_type": "stream",
     "text": [
      "100%|██████████| 938/938 [00:09<00:00, 103.15it/s]\n"
     ]
    },
    {
     "name": "stdout",
     "output_type": "stream",
     "text": [
      "Finished Epoch: 8|Reconstruction Loss: 0.1889|KL Loss:10.927511|\n"
     ]
    },
    {
     "name": "stderr",
     "output_type": "stream",
     "text": [
      "100%|██████████| 938/938 [00:09<00:00, 103.76it/s]\n"
     ]
    },
    {
     "name": "stdout",
     "output_type": "stream",
     "text": [
      "Finished Epoch: 9|Reconstruction Loss: 0.1862|KL Loss:11.280715|\n"
     ]
    },
    {
     "name": "stderr",
     "output_type": "stream",
     "text": [
      "100%|██████████| 938/938 [00:09<00:00, 104.20it/s]"
     ]
    },
    {
     "name": "stdout",
     "output_type": "stream",
     "text": [
      "Finished Epoch: 10|Reconstruction Loss: 0.1840|KL Loss:11.592533|\n",
      "Done Training....\n",
      "Done Reconstruction....\n"
     ]
    },
    {
     "name": "stderr",
     "output_type": "stream",
     "text": [
      "\n"
     ]
    }
   ],
   "source": [
    "train()"
   ]
  },
  {
   "cell_type": "code",
   "execution_count": null,
   "metadata": {},
   "outputs": [],
   "source": []
  },
  {
   "cell_type": "code",
   "execution_count": null,
   "metadata": {},
   "outputs": [],
   "source": []
  },
  {
   "cell_type": "code",
   "execution_count": null,
   "metadata": {},
   "outputs": [],
   "source": []
  }
 ],
 "metadata": {
  "kernelspec": {
   "display_name": "torchenv",
   "language": "python",
   "name": "python3"
  },
  "language_info": {
   "codemirror_mode": {
    "name": "ipython",
    "version": 3
   },
   "file_extension": ".py",
   "mimetype": "text/x-python",
   "name": "python",
   "nbconvert_exporter": "python",
   "pygments_lexer": "ipython3",
   "version": "3.12.3"
  }
 },
 "nbformat": 4,
 "nbformat_minor": 2
}
